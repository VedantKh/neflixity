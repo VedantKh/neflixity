{
  "cells": [
    {
      "cell_type": "code",
      "execution_count": 15,
      "metadata": {
        "id": "_z_sno5d-2bk"
      },
      "outputs": [
        {
          "name": "stdout",
          "output_type": "stream",
          "text": [
            "Found 'Up' in the dataset:\n",
            "      title  vote_average                                           overview\n",
            "13724    Up           7.8  Carl Fredricksen spent his entire life dreamin...\n"
          ]
        }
      ],
      "source": [
        "# !pip install pandas\n",
        "# !pip install openai\n",
        "import pandas as pd\n",
        "movies_df = pd.read_csv('src/data/raw_data/movies_metadata.csv', low_memory=False)\n",
        "movies_df\n",
        "\n",
        "up_movie = movies_df[movies_df['title'] == 'Up']\n",
        "if not up_movie.empty:\n",
        "    print(\"Found 'Up' in the dataset:\")\n",
        "    print(up_movie[['title', 'vote_average', 'overview']])\n",
        "else:\n",
        "    print(\"Movie 'Up' not found in the filtered dataset\")"
      ]
    },
    {
      "cell_type": "code",
      "execution_count": 13,
      "metadata": {},
      "outputs": [
        {
          "name": "stdout",
          "output_type": "stream",
          "text": [
            "Saved filtered movies to src/data/raw_data/movies_metadata_filtered.csv\n"
          ]
        }
      ],
      "source": [
        "# ... existing code ...\n",
        "\n",
        "movies_df['vote_average'] = pd.to_numeric(movies_df['vote_average'], errors='coerce')\n",
        "movies_df['vote_count'] = pd.to_numeric(movies_df['vote_count'], errors='coerce')\n",
        "\n",
        "# Filter for movies with more than 50 votes, then get top 12 by rating\n",
        "movies_df = movies_df[movies_df['vote_count'] > 100].nlargest(12, 'vote_average')\n",
        "movies_df\n",
        "\n",
        "# Save filtered movies to CSV\n",
        "output_path = 'src/data/raw_data/movies_metadata_filtered.csv'\n",
        "movies_df.to_csv(output_path, index=False)\n",
        "print(f\"Saved filtered movies to {output_path}\")\n"
      ]
    },
    {
      "cell_type": "code",
      "execution_count": 45,
      "metadata": {
        "id": "_GRrf2LV-Sw6"
      },
      "outputs": [
        {
          "name": "stdout",
          "output_type": "stream",
          "text": [
            "Toy Story [{'id': 931, 'name': 'jealousy'}, {'id': 4290, 'name': 'toy'}, {'id': 5202, 'name': 'boy'}, {'id': 6054, 'name': 'friendship'}, {'id': 9713, 'name': 'friends'}, {'id': 9823, 'name': 'rivalry'}, {'id': 165503, 'name': 'boy next door'}, {'id': 170722, 'name': 'new toy'}, {'id': 187065, 'name': 'toy comes to life'}]\n",
            "Jumanji [{'id': 10090, 'name': 'board game'}, {'id': 10941, 'name': 'disappearance'}, {'id': 15101, 'name': \"based on children's book\"}, {'id': 33467, 'name': 'new home'}, {'id': 158086, 'name': 'recluse'}, {'id': 158091, 'name': 'giant insect'}]\n",
            "Grumpier Old Men [{'id': 1495, 'name': 'fishing'}, {'id': 12392, 'name': 'best friend'}, {'id': 179431, 'name': 'duringcreditsstinger'}, {'id': 208510, 'name': 'old men'}]\n",
            "Waiting to Exhale [{'id': 818, 'name': 'based on novel'}, {'id': 10131, 'name': 'interracial relationship'}, {'id': 14768, 'name': 'single mother'}, {'id': 15160, 'name': 'divorce'}, {'id': 33455, 'name': 'chick flick'}]\n",
            "Father of the Bride Part II [{'id': 1009, 'name': 'baby'}, {'id': 1599, 'name': 'midlife crisis'}, {'id': 2246, 'name': 'confidence'}, {'id': 4995, 'name': 'aging'}, {'id': 5600, 'name': 'daughter'}, {'id': 10707, 'name': 'mother daughter relationship'}, {'id': 13149, 'name': 'pregnancy'}, {'id': 33358, 'name': 'contraception'}, {'id': 170521, 'name': 'gynecologist'}]\n",
            "Heat [{'id': 642, 'name': 'robbery'}, {'id': 703, 'name': 'detective'}, {'id': 974, 'name': 'bank'}, {'id': 1523, 'name': 'obsession'}, {'id': 3713, 'name': 'chase'}, {'id': 7281, 'name': 'shooting'}, {'id': 9727, 'name': 'thief'}, {'id': 9812, 'name': 'honor'}, {'id': 9826, 'name': 'murder'}, {'id': 9937, 'name': 'suspense'}, {'id': 10051, 'name': 'heist'}, {'id': 10085, 'name': 'betrayal'}, {'id': 10594, 'name': 'money'}, {'id': 10726, 'name': 'gang'}, {'id': 15076, 'name': 'cat and mouse'}, {'id': 18023, 'name': 'criminal mastermind'}, {'id': 34117, 'name': 'cult film'}, {'id': 156121, 'name': 'ex-con'}, {'id': 159343, 'name': 'heist movie'}, {'id': 159434, 'name': 'one last job'}, {'id': 167104, 'name': 'loner'}, {'id': 192261, 'name': 'bank job'}, {'id': 207268, 'name': 'neo-noir'}, {'id': 208009, 'name': 'gun fight'}, {'id': 214983, 'name': 'crime epic'}]\n",
            "Sabrina [{'id': 90, 'name': 'paris'}, {'id': 380, 'name': 'brother brother relationship'}, {'id': 2072, 'name': 'chauffeur'}, {'id': 9398, 'name': 'long island'}, {'id': 9492, 'name': 'fusion'}, {'id': 33626, 'name': 'millionaire'}]\n",
            "Sudden Death [{'id': 949, 'name': 'terrorist'}, {'id': 1562, 'name': 'hostage'}, {'id': 1653, 'name': 'explosive'}, {'id': 193533, 'name': 'vice president'}]\n",
            "GoldenEye [{'id': 701, 'name': 'cuba'}, {'id': 769, 'name': 'falsely accused'}, {'id': 1308, 'name': 'secret identity'}, {'id': 2812, 'name': 'computer virus'}, {'id': 3268, 'name': 'secret base'}, {'id': 3272, 'name': 'secret intelligence service'}, {'id': 3278, 'name': 'kgb'}, {'id': 3376, 'name': 'satellite'}, {'id': 3531, 'name': 'special car'}, {'id': 3560, 'name': 'cossack'}, {'id': 3561, 'name': 'electromagnetic pulse'}, {'id': 3562, 'name': 'time bomb'}, {'id': 3563, 'name': 'st. petersburg russia'}, {'id': 3564, 'name': 'ejection seat'}, {'id': 193008, 'name': 'red army'}]\n"
          ]
        }
      ],
      "source": [
        "num_records = 10\n",
        "def prep_for_embeddings(name: str, description: str, keywords_list: str) -> str:\n",
        "    # Get keywords for this movie if they exist\n",
        "    try:\n",
        "        keywords_str = \"\"\n",
        "        if isinstance(keywords_list, str):\n",
        "            keywords_list = eval(keywords_list)\n",
        "    except:\n",
        "        keywords_list = []\n",
        "    if keywords_list != []:\n",
        "        print(name, keywords_list)\n",
        "        keyword_names = [k['name'] for k in keywords_list]\n",
        "        if keyword_names:\n",
        "            keywords_str = f\" Keywords: {', '.join(keyword_names)}.\"\n",
        "    else:\n",
        "        pass  # Skip if keywords can't be parsed\n",
        "            \n",
        "    return f'Title: {name}. Description: {description}{keywords_str}'\n",
        "\n",
        "documents = list(map(\n",
        "    prep_for_embeddings, \n",
        "    movies_df[\"title\"][:num_records], \n",
        "    movies_df[\"overview\"][:num_records],\n",
        "    keywords_df[\"keywords\"][:num_records]\n",
        "))"
      ]
    },
    {
      "cell_type": "code",
      "execution_count": 46,
      "metadata": {
        "colab": {
          "base_uri": "https://localhost:8080/"
        },
        "id": "LfDcAk3W_N2-",
        "outputId": "809ef8f8-d9b0-4fbc-cbb2-2a841d2ee53e"
      },
      "outputs": [
        {
          "name": "stdout",
          "output_type": "stream",
          "text": [
            "Title: Toy Story. Description: Led by Woody, Andy's toys live happily in his room until Andy's birthday brings Buzz Lightyear onto the scene. Afraid of losing his place in Andy's heart, Woody plots against Buzz. But when circumstances separate Buzz and Woody from their owner, the duo eventually learns to put aside their differences. Keywords: jealousy, toy, boy, friendship, friends, rivalry, boy next door, new toy, toy comes to life.\n",
            "Title: Jumanji. Description: When siblings Judy and Peter discover an enchanted board game that opens the door to a magical world, they unwittingly invite Alan -- an adult who's been trapped inside the game for 26 years -- into their living room. Alan's only hope for freedom is to finish the game, which proves risky as all three find themselves running from giant rhinoceroses, evil monkeys and other terrifying creatures. Keywords: board game, disappearance, based on children's book, new home, recluse, giant insect.\n",
            "Title: Grumpier Old Men. Description: A family wedding reignites the ancient feud between next-door neighbors and fishing buddies John and Max. Meanwhile, a sultry Italian divorcée opens a restaurant at the local bait shop, alarming the locals who worry she'll scare the fish away. But she's less interested in seafood than she is in cooking up a hot time with Max. Keywords: fishing, best friend, duringcreditsstinger, old men.\n",
            "Title: Waiting to Exhale. Description: Cheated on, mistreated and stepped on, the women are holding their breath, waiting for the elusive \"good man\" to break a string of less-than-stellar lovers. Friends and confidants Vannah, Bernie, Glo and Robin talk it all out, determined to find a better way to breathe. Keywords: based on novel, interracial relationship, single mother, divorce, chick flick.\n",
            "Title: Father of the Bride Part II. Description: Just when George Banks has recovered from his daughter's wedding, he receives the news that she's pregnant ... and that George's wife, Nina, is expecting too. He was planning on selling their home, but that's a plan that -- like George -- will have to change with the arrival of both a grandchild and a kid of his own. Keywords: baby, midlife crisis, confidence, aging, daughter, mother daughter relationship, pregnancy, contraception, gynecologist.\n",
            "Title: Heat. Description: Obsessive master thief, Neil McCauley leads a top-notch crew on various insane heists throughout Los Angeles while a mentally unstable detective, Vincent Hanna pursues him without rest. Each man recognizes and respects the ability and the dedication of the other even though they are aware their cat-and-mouse game may end in violence. Keywords: robbery, detective, bank, obsession, chase, shooting, thief, honor, murder, suspense, heist, betrayal, money, gang, cat and mouse, criminal mastermind, cult film, ex-con, heist movie, one last job, loner, bank job, neo-noir, gun fight, crime epic.\n",
            "Title: Sabrina. Description: An ugly duckling having undergone a remarkable change, still harbors feelings for her crush: a carefree playboy, but not before his business-focused brother has something to say about it. Keywords: paris, brother brother relationship, chauffeur, long island, fusion, millionaire.\n",
            "Title: Tom and Huck. Description: A mischievous young boy, Tom Sawyer, witnesses a murder by the deadly Injun Joe. Tom becomes friends with Huckleberry Finn, a boy with no future and no family. Tom has to choose between honoring a friendship or honoring an oath because the town alcoholic is accused of the murder. Tom and Huck go through several adventures trying to retrieve evidence.\n",
            "Title: Sudden Death. Description: International action superstar Jean Claude Van Damme teams with Powers Boothe in a Tension-packed, suspense thriller, set against the back-drop of a Stanley Cup game.Van Damme portrays a father whose daughter is suddenly taken during a championship hockey game. With the captors demanding a billion dollars by game's end, Van Damme frantically sets a plan in motion to rescue his daughter and abort an impending explosion before the final buzzer... Keywords: terrorist, hostage, explosive, vice president.\n",
            "Title: GoldenEye. Description: James Bond must unmask the mysterious head of the Janus Syndicate and prevent the leader from utilizing the GoldenEye weapons system to inflict devastating revenge on Britain. Keywords: cuba, falsely accused, secret identity, computer virus, secret base, secret intelligence service, kgb, satellite, special car, cossack, electromagnetic pulse, time bomb, st. petersburg russia, ejection seat, red army.\n"
          ]
        }
      ],
      "source": [
        "for i in documents:\n",
        "    print(i)"
      ]
    },
    {
      "cell_type": "code",
      "execution_count": null,
      "metadata": {},
      "outputs": [],
      "source": []
    },
    {
      "cell_type": "code",
      "execution_count": 4,
      "metadata": {
        "id": "BYTFQrXK8Qu1"
      },
      "outputs": [],
      "source": [
        "def get_detailed_instruct(task_description: str, query: str) -> str:\n",
        "    return f'Instruct: {task_description}\\nQuery: {query}'"
      ]
    },
    {
      "cell_type": "code",
      "execution_count": 5,
      "metadata": {
        "colab": {
          "base_uri": "https://localhost:8080/"
        },
        "id": "jJfi6dRP749v",
        "outputId": "f2db3d86-8499-4a31-985f-181f02fad8cb"
      },
      "outputs": [
        {
          "name": "stdout",
          "output_type": "stream",
          "text": [
            "Title: Toy Story. Description: Led by Woody, Andy's toys live happily in his room until Andy's birthday brings Buzz Lightyear onto the scene. Afraid of losing his place in Andy's heart, Woody plots against Buzz. But when circumstances separate Buzz and Woody from their owner, the duo eventually learns to put aside their differences.\n",
            "Title: Jumanji. Description: When siblings Judy and Peter discover an enchanted board game that opens the door to a magical world, they unwittingly invite Alan -- an adult who's been trapped inside the game for 26 years -- into their living room. Alan's only hope for freedom is to finish the game, which proves risky as all three find themselves running from giant rhinoceroses, evil monkeys and other terrifying creatures.\n",
            "Title: Grumpier Old Men. Description: A family wedding reignites the ancient feud between next-door neighbors and fishing buddies John and Max. Meanwhile, a sultry Italian divorcée opens a restaurant at the local bait shop, alarming the locals who worry she'll scare the fish away. But she's less interested in seafood than she is in cooking up a hot time with Max.\n"
          ]
        }
      ],
      "source": [
        "import numpy as np\n",
        "from openai import OpenAI\n",
        "from typing import List\n",
        "import os\n",
        "\n",
        "def get_embeddings_and_scores(queries: List[str], documents: List[str]) -> tuple:\n",
        "    \"\"\"\n",
        "    Get embeddings using OpenAI's API and compute similarity scores.\n",
        "\n",
        "    Args:\n",
        "        queries: List of query strings\n",
        "        documents: List of document strings\n",
        "\n",
        "    Returns:\n",
        "        tuple: (embeddings array, similarity scores matrix)\n",
        "    \"\"\"\n",
        "    api_key = os.environ.get('OPENAI_API_KEY')\n",
        "\n",
        "    client = OpenAI(api_key=api_key)\n",
        "\n",
        "    # Get embeddings for all texts\n",
        "    all_texts = queries + documents\n",
        "    response = client.embeddings.create(\n",
        "        model=\"text-embedding-3-small\",\n",
        "        input=all_texts,\n",
        "        encoding_format=\"float\"\n",
        "    )\n",
        "\n",
        "    # Extract embeddings from response\n",
        "    embeddings = np.array([e.embedding for e in response.data])\n",
        "\n",
        "    # Split into query and document embeddings\n",
        "    query_embeddings = embeddings[:len(queries)]\n",
        "    doc_embeddings = embeddings[len(queries):]\n",
        "\n",
        "    # Compute similarity scores (same as your original computation)\n",
        "    # Note: embeddings from OpenAI are already normalized\n",
        "    scores = (query_embeddings @ doc_embeddings.T) * 100\n",
        "\n",
        "    return embeddings, scores.tolist()\n",
        "\n",
        "# Example usage:\n",
        "task = 'Given a movie query, analyze the plot elements and themes to retrieve relevant movie names and descriptions that match the query'\n",
        "searches = [\n",
        "    \"A children's animated movie about toys coming to life, perfect for family viewing\",\n",
        "    \"An adventure movie featuring dangerous wild animals and a magical board game\",\n",
        "    \"A comedy about elderly neighbors, fishing, and romance\"\n",
        "]\n",
        "queries = list(map(get_detailed_instruct, [task]*3, searches))\n",
        "\n",
        "\n",
        "embeddings, scores = get_embeddings_and_scores(queries, documents)\n",
        "for row in scores:\n",
        "    print(documents[np.argmax(row)])"
      ]
    },
    {
      "cell_type": "code",
      "execution_count": null,
      "metadata": {
        "colab": {
          "base_uri": "https://localhost:8080/"
        },
        "id": "m0uHo8qx8MDF",
        "outputId": "aa20c3c2-f0ca-432a-b32b-b308712fa5d4"
      },
      "outputs": [
        {
          "name": "stdout",
          "output_type": "stream",
          "text": [
            "124 Title: The Neverending Story III: Escape from Fantasia. Description: A young boy must restore order when a group of bullies steal the magical book that acts as a portal between Earth and the imaginary world of Fantasia.\n",
            "28 Title: The City of Lost Children. Description: A scientist in a surrealist society kidnaps children to steal their dreams, hoping that they slow his aging process.\n",
            "0 Title: Toy Story. Description: Led by Woody, Andy's toys live happily in his room until Andy's birthday brings Buzz Lightyear onto the scene. Afraid of losing his place in Andy's heart, Woody plots against Buzz. But when circumstances separate Buzz and Woody from their owner, the duo eventually learns to put aside their differences.\n",
            "---\n",
            "292 Title: Pulp Fiction. Description: A burger-loving hit man, his philosophical partner, a drug-addled gangster's moll and a washed-up boxer converge in this sprawling, comedic crime caper. Their adventures unfurl in three stories that ingeniously trip back and forth in time.\n",
            "373 Title: Speechless. Description: A romantic comedy. Michael Keaton and Geena Davis are speechwriters for competing political campaigns. Witty and amusing for the political junkies amongst us.\n",
            "239 Title: Gordy. Description: A talking pig named Gordy becomes involved in a quest to save his family from the slaughterhouse.\n",
            "---\n",
            "459 Title: Hard Target. Description: When a woman's father goes missing, she enlist a local to aid in her search.  The pair soon discover that her father has died at the hands of a wealthy sportsman who hunts homeless men as a form of recreation.\n",
            "8 Title: Sudden Death. Description: International action superstar Jean Claude Van Damme teams with Powers Boothe in a Tension-packed, suspense thriller, set against the back-drop of a Stanley Cup game.Van Damme portrays a father whose daughter is suddenly taken during a championship hockey game. With the captors demanding a billion dollars by game's end, Van Damme frantically sets a plan in motion to rescue his daughter and abort an impending explosion before the final buzzer...\n",
            "395 Title: Homage. Description: The young caretaker at the estate of a reclusive woman develops a dangerous obsession with her daughter, a sexy television star. Unexpected twists and turns.\n",
            "---\n"
          ]
        }
      ],
      "source": [
        "# need to pass into claude 3.5 haiku to convert these into better prompts. Pay special attention to keywords\n",
        "# filter by genre if genre detected\n",
        "# add keywords to prep for embeddings function\n",
        "\n",
        "# add perplexity like interpretability\n",
        "\n",
        "searches2 = [\n",
        "    \"Animated fun movie\",\n",
        "    \"An action comedy with animals\",\n",
        "    \"A thriller about parental love and hockey\"\n",
        "]\n",
        "queries = list(map(get_detailed_instruct, [task]*3, searches2))\n",
        "\n",
        "\n",
        "embeddings, scores = get_embeddings_and_scores(queries, documents)\n",
        "for row in scores:\n",
        "    top_3_indices = np.argsort(row)[-3:][::-1]\n",
        "    for idx in top_3_indices:\n",
        "        print(idx, documents[idx])\n",
        "    print(\"---\")"
      ]
    },
    {
      "cell_type": "code",
      "execution_count": null,
      "metadata": {
        "id": "bBjc1BNx8wq6"
      },
      "outputs": [],
      "source": [
        "# break into two functions: fetch document embeddings, or generate if they don't exist\n",
        "# call separate api function first to improve prompt with more details\n",
        "# filter by genre if necessary\n",
        "# similarity search (improved prompt, documents) -> return top 3 movie objects\n",
        "# update progress component on main page with each step\n",
        "\"\"\"\n",
        "import { OpenAI } from 'openai';\n",
        "import { NextResponse } from 'next/server';\n",
        "import { dot } from 'mathjs'; // You'll need to install this: npm install mathjs\n",
        "\n",
        "const client = new OpenAI({\n",
        "  apiKey: process.env.OPENAI_API_KEY // Move API key to environment variable\n",
        "});\n",
        "\n",
        "function prepForEmbeddings(name: string, description: string): string {\n",
        "  return `Title: ${name}. Description: ${description}`;\n",
        "}\n",
        "\n",
        "function getDetailedInstruct(taskDescription: string, query: string): string {\n",
        "  return `Instruct: ${taskDescription}\\nQuery: ${query}`;\n",
        "}\n",
        "\n",
        "export async function POST(req: Request) {\n",
        "  try {\n",
        "    const { search, documents } = await req.json();\n",
        "    \n",
        "    const task = 'Given a movie query, analyze the plot elements and themes to retrieve relevant movie names and descriptions that match the query';\n",
        "    const query = getDetailedInstruct(task, search);\n",
        "\n",
        "    // Get embeddings for query and documents\n",
        "    const response = await client.embeddings.create({\n",
        "      model: \"text-embedding-ada-002\",\n",
        "      input: [query, ...documents],\n",
        "      encoding_format: \"float\"\n",
        "    });\n",
        "\n",
        "    // Extract embeddings\n",
        "    const embeddings = response.data.map(e => e.embedding);\n",
        "    const queryEmbedding = embeddings[0];\n",
        "    const docEmbeddings = embeddings.slice(1);\n",
        "\n",
        "    // Calculate similarity scores\n",
        "    const scores = docEmbeddings.map(docEmb => \n",
        "      dot(queryEmbedding, docEmb) * 100\n",
        "    );\n",
        "\n",
        "    // Get top 3 results\n",
        "    const top3Indices = scores\n",
        "      .map((score, idx) => ({ score, idx }))\n",
        "      .sort((a, b) => b.score - a.score)\n",
        "      .slice(0, 3)\n",
        "      .map(item => item.idx);\n",
        "\n",
        "    const results = top3Indices.map(idx => ({\n",
        "      index: idx,\n",
        "      document: documents[idx],\n",
        "      score: scores[idx]\n",
        "    }));\n",
        "\n",
        "    return NextResponse.json({ results });\n",
        "    \n",
        "  } catch (error) {\n",
        "    console.error('Error:', error);\n",
        "    return NextResponse.json(\n",
        "      { error: 'Failed to process request' },\n",
        "      { status: 500 }\n",
        "    );\n",
        "  }\n",
        "}\n",
        "\"\"\""
      ]
    },
    {
      "cell_type": "code",
      "execution_count": 44,
      "metadata": {},
      "outputs": [
        {
          "data": {
            "text/plain": [
              "'\\n\\'use client\\';\\n\\nimport { useState } from \\'react\\';\\n\\nexport default function MovieSearch() {\\n  const [results, setResults] = useState([]);\\n  const [search, setSearch] = useState(\\'\\');\\n\\n  const handleSearch = async () => {\\n    try {\\n      const response = await fetch(\\'/api/movie-search\\', {\\n        method: \\'POST\\',\\n        headers: {\\n          \\'Content-Type\\': \\'application/json\\',\\n        },\\n        body: JSON.stringify({\\n          search,\\n          documents: // Your documents array here\\n        }),\\n      });\\n\\n      const data = await response.json();\\n      setResults(data.results);\\n    } catch (error) {\\n      console.error(\\'Error:\\', error);\\n    }\\n  };\\n\\n  return (\\n    <div>\\n      <input\\n        type=\"text\"\\n        value={search}\\n        onChange={(e) => setSearch(e.target.value)}\\n        placeholder=\"Search movies...\"\\n      />\\n      <button onClick={handleSearch}>Search</button>\\n      \\n      <div>\\n        {results.map((result, idx) => (\\n          <div key={idx}>\\n            <p>{result.document}</p>\\n            <p>Score: {result.score.toFixed(2)}</p>\\n          </div>\\n        ))}\\n      </div>\\n    </div>\\n  );\\n}'"
            ]
          },
          "execution_count": 44,
          "metadata": {},
          "output_type": "execute_result"
        }
      ],
      "source": [
        "\"\"\"\n",
        "'use client';\n",
        "\n",
        "import { useState } from 'react';\n",
        "\n",
        "export default function MovieSearch() {\n",
        "  const [results, setResults] = useState([]);\n",
        "  const [search, setSearch] = useState('');\n",
        "\n",
        "  const handleSearch = async () => {\n",
        "    try {\n",
        "      const response = await fetch('/api/movie-search', {\n",
        "        method: 'POST',\n",
        "        headers: {\n",
        "          'Content-Type': 'application/json',\n",
        "        },\n",
        "        body: JSON.stringify({\n",
        "          search,\n",
        "          documents: // Your documents array here\n",
        "        }),\n",
        "      });\n",
        "\n",
        "      const data = await response.json();\n",
        "      setResults(data.results);\n",
        "    } catch (error) {\n",
        "      console.error('Error:', error);\n",
        "    }\n",
        "  };\n",
        "\n",
        "  return (\n",
        "    <div>\n",
        "      <input\n",
        "        type=\"text\"\n",
        "        value={search}\n",
        "        onChange={(e) => setSearch(e.target.value)}\n",
        "        placeholder=\"Search movies...\"\n",
        "      />\n",
        "      <button onClick={handleSearch}>Search</button>\n",
        "      \n",
        "      <div>\n",
        "        {results.map((result, idx) => (\n",
        "          <div key={idx}>\n",
        "            <p>{result.document}</p>\n",
        "            <p>Score: {result.score.toFixed(2)}</p>\n",
        "          </div>\n",
        "        ))}\n",
        "      </div>\n",
        "    </div>\n",
        "  );\n",
        "}\n",
        "\"\"\""
      ]
    },
    {
      "cell_type": "code",
      "execution_count": null,
      "metadata": {},
      "outputs": [],
      "source": []
    }
  ],
  "metadata": {
    "colab": {
      "provenance": []
    },
    "kernelspec": {
      "display_name": "Python 3",
      "name": "python3"
    },
    "language_info": {
      "codemirror_mode": {
        "name": "ipython",
        "version": 3
      },
      "file_extension": ".py",
      "mimetype": "text/x-python",
      "name": "python",
      "nbconvert_exporter": "python",
      "pygments_lexer": "ipython3",
      "version": "3.12.8"
    }
  },
  "nbformat": 4,
  "nbformat_minor": 0
}
